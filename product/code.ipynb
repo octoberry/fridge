{
 "cells": [
  {
   "cell_type": "code",
   "execution_count": 1,
   "metadata": {
    "collapsed": false
   },
   "outputs": [
    {
     "name": "stdout",
     "output_type": "stream",
     "text": [
      "Заказываем?\n",
      "Заказываем?\n"
     ]
    }
   ],
   "source": [
    "import find\n",
    "Z = find.Items.do(u\"верблюжатина\", {})\n",
    "find.Print(Z)\n",
    "Z = find.Items.do(u\"4\", Z[2])\n",
    "find.Print(Z)"
   ]
  },
  {
   "cell_type": "code",
   "execution_count": 2,
   "metadata": {
    "collapsed": false
   },
   "outputs": [
    {
     "name": "stdout",
     "output_type": "stream",
     "text": [
      "('\\xd0\\x97\\xd0\\xb0\\xd0\\xba\\xd0\\xb0\\xd0\\xb7\\xd1\\x8b\\xd0\\xb2\\xd0\\xb0\\xd0\\xb5\\xd0\\xbc?', [], {'words': []})\n"
     ]
    }
   ],
   "source": [
    "Z = find.Items.do(u\"верблюжатина\", {})\n",
    "print Z"
   ]
  },
  {
   "cell_type": "code",
   "execution_count": 3,
   "metadata": {
    "collapsed": false
   },
   "outputs": [
    {
     "name": "stdout",
     "output_type": "stream",
     "text": [
      "ls: cannot access !: No such file or directory\r\n"
     ]
    }
   ],
   "source": [
    "ls!"
   ]
  },
  {
   "cell_type": "code",
   "execution_count": 5,
   "metadata": {
    "collapsed": false
   },
   "outputs": [
    {
     "name": "stdout",
     "output_type": "stream",
     "text": [
      "/home/july/rubbles/refregerator/fridge/product\r\n"
     ]
    }
   ],
   "source": [
    "!pwd"
   ]
  },
  {
   "cell_type": "code",
   "execution_count": 6,
   "metadata": {
    "collapsed": true
   },
   "outputs": [],
   "source": [
    "from os import listdir\n",
    "from os.path import isfile, join\n",
    "onlyfiles = [f for f in listdir('/home/july/rubbles/refregerator/fridge/product') if isfile(join('/home/july/rubbles/refregerator/fridge/product', f))]"
   ]
  },
  {
   "cell_type": "code",
   "execution_count": 9,
   "metadata": {
    "collapsed": false
   },
   "outputs": [
    {
     "name": "stdout",
     "output_type": "stream",
     "text": [
      "__init__.py\n",
      "find.pyc\n",
      "cesar\n",
      "holodec\n",
      "borsh\n",
      "plov\n",
      "find.py\n",
      "code.ipynb\n"
     ]
    }
   ],
   "source": [
    "import json\n",
    "words = []\n",
    "for i in onlyfiles:\n",
    "    try: \n",
    "        #int(i)\n",
    "        f = open(i, 'r')\n",
    "        k = json.load(f)\n",
    "        words += [row[2].split(' ')[0] for row in k[1:]]\n",
    "        \n",
    "    except:\n",
    "        print i"
   ]
  },
  {
   "cell_type": "code",
   "execution_count": 12,
   "metadata": {
    "collapsed": false
   },
   "outputs": [
    {
     "name": "stdout",
     "output_type": "stream",
     "text": [
      "Кукуруза\n"
     ]
    }
   ],
   "source": [
    "print words[0]"
   ]
  },
  {
   "cell_type": "code",
   "execution_count": 13,
   "metadata": {
    "collapsed": true
   },
   "outputs": [],
   "source": [
    "W = list(set(words))"
   ]
  },
  {
   "cell_type": "code",
   "execution_count": 14,
   "metadata": {
    "collapsed": false
   },
   "outputs": [
    {
     "data": {
      "text/plain": [
       "486"
      ]
     },
     "execution_count": 14,
     "metadata": {},
     "output_type": "execute_result"
    }
   ],
   "source": [
    "len(W)"
   ]
  },
  {
   "cell_type": "code",
   "execution_count": 18,
   "metadata": {
    "collapsed": false
   },
   "outputs": [],
   "source": [
    "f = open('good_words', 'w')\n",
    "json.dump(W, f)\n",
    "f.close()"
   ]
  },
  {
   "cell_type": "code",
   "execution_count": null,
   "metadata": {
    "collapsed": true
   },
   "outputs": [],
   "source": []
  }
 ],
 "metadata": {
  "kernelspec": {
   "display_name": "Python 2",
   "language": "python",
   "name": "python2"
  },
  "language_info": {
   "codemirror_mode": {
    "name": "ipython",
    "version": 2
   },
   "file_extension": ".py",
   "mimetype": "text/x-python",
   "name": "python",
   "nbconvert_exporter": "python",
   "pygments_lexer": "ipython2",
   "version": "2.7.6"
  }
 },
 "nbformat": 4,
 "nbformat_minor": 0
}
